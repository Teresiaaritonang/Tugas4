{
 "cells": [
  {
   "cell_type": "code",
   "execution_count": 6,
   "id": "e1756031",
   "metadata": {},
   "outputs": [],
   "source": [
    "import numpy as np"
   ]
  },
  {
   "cell_type": "code",
   "execution_count": 7,
   "id": "0a3b6c92",
   "metadata": {},
   "outputs": [
    {
     "name": "stdout",
     "output_type": "stream",
     "text": [
      "[[11 15 10  6]\n",
      " [10 14 11  5]\n",
      " [12 17 12  8]\n",
      " [15 18 14  9]]\n"
     ]
    }
   ],
   "source": [
    "twoDArray = np.array([[11,15,10,6,],[10,14,11,5], [12,17,12,8], [15,18,14,9]])\n",
    "print(twoDArray)"
   ]
  },
  {
   "cell_type": "code",
   "execution_count": 10,
   "id": "d7797372",
   "metadata": {},
   "outputs": [
    {
     "name": "stdout",
     "output_type": "stream",
     "text": [
      "[[11 15 10  6]\n",
      " [ 1  2  3  4]\n",
      " [10 14 11  5]\n",
      " [12 17 12  8]\n",
      " [15 18 14  9]]\n"
     ]
    }
   ],
   "source": [
    "newTwoDArray = np.insert(twoDArray,1,[[1,2,3,4]], axis=0)\n",
    "print(newTwoDArray)"
   ]
  },
  {
   "cell_type": "code",
   "execution_count": 11,
   "id": "683a60bf",
   "metadata": {},
   "outputs": [
    {
     "name": "stdout",
     "output_type": "stream",
     "text": [
      "4\n"
     ]
    }
   ],
   "source": [
    "print(len(twoDArray))"
   ]
  },
  {
   "cell_type": "code",
   "execution_count": 12,
   "id": "11512c9c",
   "metadata": {},
   "outputs": [
    {
     "name": "stdout",
     "output_type": "stream",
     "text": [
      "[[11 15 10  6]\n",
      " [10 14 11  5]\n",
      " [12 17 12  8]\n",
      " [15 18 14  9]\n",
      " [ 1  2  3  4]]\n"
     ]
    }
   ],
   "source": [
    "newTwoDArray = np.append(twoDArray, [[1,2,3,4]], axis=0)\n",
    "print(newTwoDArray)"
   ]
  },
  {
   "cell_type": "code",
   "execution_count": 14,
   "id": "73d8499b",
   "metadata": {},
   "outputs": [
    {
     "name": "stdout",
     "output_type": "stream",
     "text": [
      "5\n"
     ]
    }
   ],
   "source": [
    "print(len(newTwoDArray))"
   ]
  },
  {
   "cell_type": "code",
   "execution_count": 15,
   "id": "ba771cd7",
   "metadata": {},
   "outputs": [
    {
     "name": "stdout",
     "output_type": "stream",
     "text": [
      "4\n"
     ]
    }
   ],
   "source": [
    "print(len(newTwoDArray[0]))"
   ]
  },
  {
   "cell_type": "code",
   "execution_count": 17,
   "id": "f52af0a3",
   "metadata": {},
   "outputs": [],
   "source": [
    "def accesElements(array,rowIndex, colIndex):\n",
    "    if rowIndex >= len(array) and colIndex >= len(array[0]):\n",
    "        print('incorrect index')\n",
    "    else:\n",
    "        print(array[rowIndex][colIndex])"
   ]
  },
  {
   "cell_type": "code",
   "execution_count": 20,
   "id": "67edf71c",
   "metadata": {},
   "outputs": [
    {
     "name": "stdout",
     "output_type": "stream",
     "text": [
      "17\n"
     ]
    }
   ],
   "source": [
    "accesElements(newTwoDArray,2,1)"
   ]
  },
  {
   "cell_type": "code",
   "execution_count": 23,
   "id": "a3fb75f1",
   "metadata": {},
   "outputs": [],
   "source": [
    "def traverseDArray(array):\n",
    "    for i in range(len(array)):\n",
    "        for j in range(len(array[0])):\n",
    "            print(array[i][j])"
   ]
  },
  {
   "cell_type": "code",
   "execution_count": 26,
   "id": "b85240d3",
   "metadata": {},
   "outputs": [
    {
     "name": "stdout",
     "output_type": "stream",
     "text": [
      "11\n",
      "15\n",
      "10\n",
      "6\n",
      "10\n",
      "14\n",
      "11\n",
      "5\n",
      "12\n",
      "17\n",
      "12\n",
      "8\n",
      "15\n",
      "18\n",
      "14\n",
      "9\n"
     ]
    }
   ],
   "source": [
    "traverseDArray(twoDArray)"
   ]
  },
  {
   "cell_type": "code",
   "execution_count": 24,
   "id": "128ed263",
   "metadata": {},
   "outputs": [],
   "source": [
    "def searchTDArray(array,value):\n",
    "    for i in range(len(array)):\n",
    "        for j in range(len(array[0])):\n",
    "            if array [i][j] == value:\n",
    "                return 'The value is located index' + str(i)+\" \"+str(j)\n",
    "    return 'The element no found'"
   ]
  },
  {
   "cell_type": "code",
   "execution_count": 25,
   "id": "a33d9326",
   "metadata": {},
   "outputs": [
    {
     "name": "stdout",
     "output_type": "stream",
     "text": [
      "The value is located index2 3\n"
     ]
    }
   ],
   "source": [
    "print(searchTDArray(twoDArray,8))"
   ]
  },
  {
   "cell_type": "code",
   "execution_count": 33,
   "id": "57939cd3",
   "metadata": {},
   "outputs": [
    {
     "name": "stdout",
     "output_type": "stream",
     "text": [
      "[[11 15  6]\n",
      " [10 14  5]\n",
      " [12 17  8]\n",
      " [15 18  9]]\n"
     ]
    }
   ],
   "source": [
    "#0=untuk baris, 1=untuk kolom\n",
    "newTDArray = np.delete(twoDArray, 2, axis=1)\n",
    "print(newTDArray)"
   ]
  },
  {
   "cell_type": "code",
   "execution_count": 28,
   "id": "0d401fcb",
   "metadata": {},
   "outputs": [
    {
     "name": "stdout",
     "output_type": "stream",
     "text": [
      "[[11 15 10  6]\n",
      " [10 14 11  5]\n",
      " [12 17 12  8]\n",
      " [15 18 14  9]]\n"
     ]
    }
   ],
   "source": [
    "print(twoDArray)"
   ]
  },
  {
   "cell_type": "code",
   "execution_count": null,
   "id": "830d9c8e",
   "metadata": {},
   "outputs": [],
   "source": []
  }
 ],
 "metadata": {
  "kernelspec": {
   "display_name": "Python 3 (ipykernel)",
   "language": "python",
   "name": "python3"
  },
  "language_info": {
   "codemirror_mode": {
    "name": "ipython",
    "version": 3
   },
   "file_extension": ".py",
   "mimetype": "text/x-python",
   "name": "python",
   "nbconvert_exporter": "python",
   "pygments_lexer": "ipython3",
   "version": "3.9.12"
  }
 },
 "nbformat": 4,
 "nbformat_minor": 5
}
