{
  "nbformat": 4,
  "nbformat_minor": 0,
  "metadata": {
    "colab": {
      "provenance": []
    },
    "kernelspec": {
      "name": "python3",
      "display_name": "Python 3"
    },
    "language_info": {
      "name": "python"
    }
  },
  "cells": [
    {
      "cell_type": "code",
      "source": [
        "#   Created by Elshad Karimov on 23/04/2020.\n",
        "#   Copyright © 2020 AppMillers. All rights reserved."
      ],
      "metadata": {
        "id": "wR9_2DPZNH0S"
      },
      "execution_count": 2,
      "outputs": []
    },
    {
      "cell_type": "code",
      "source": [
        "# Q-1. What will be the output of the following code block?\n",
        "a=[1,2,3,4,5,6,7,8,9]\n",
        "print(a[::2])"
      ],
      "metadata": {
        "colab": {
          "base_uri": "https://localhost:8080/"
        },
        "id": "pcR6KEEWNmMR",
        "outputId": "5fcfe743-f219-4bc4-8a87-df54533c9b12"
      },
      "execution_count": 3,
      "outputs": [
        {
          "output_type": "stream",
          "name": "stdout",
          "text": [
            "[1, 3, 5, 7, 9]\n"
          ]
        }
      ]
    },
    {
      "cell_type": "code",
      "source": [
        "# Q-2. What will be the output of the following code snippet?\n",
        "# Answer: A. ValueError: attempt to assign sequence of size 6 to extended slice of size 5\n",
        "\n",
        "a=[1,2,3,4,5,6,7,8,9]\n",
        "a[::2]=10,20,30,40,50,60\n",
        "print(a)"
      ],
      "metadata": {
        "colab": {
          "base_uri": "https://localhost:8080/",
          "height": 217
        },
        "id": "RbpG4RYDNukE",
        "outputId": "7d0cd9f0-2903-49be-f3cb-8ea5a34def1d"
      },
      "execution_count": 5,
      "outputs": [
        {
          "output_type": "error",
          "ename": "ValueError",
          "evalue": "ignored",
          "traceback": [
            "\u001b[0;31m---------------------------------------------------------------------------\u001b[0m",
            "\u001b[0;31mValueError\u001b[0m                                Traceback (most recent call last)",
            "\u001b[0;32m<ipython-input-5-ccd8f91f6159>\u001b[0m in \u001b[0;36m<cell line: 5>\u001b[0;34m()\u001b[0m\n\u001b[1;32m      3\u001b[0m \u001b[0;34m\u001b[0m\u001b[0m\n\u001b[1;32m      4\u001b[0m \u001b[0ma\u001b[0m\u001b[0;34m=\u001b[0m\u001b[0;34m[\u001b[0m\u001b[0;36m1\u001b[0m\u001b[0;34m,\u001b[0m\u001b[0;36m2\u001b[0m\u001b[0;34m,\u001b[0m\u001b[0;36m3\u001b[0m\u001b[0;34m,\u001b[0m\u001b[0;36m4\u001b[0m\u001b[0;34m,\u001b[0m\u001b[0;36m5\u001b[0m\u001b[0;34m,\u001b[0m\u001b[0;36m6\u001b[0m\u001b[0;34m,\u001b[0m\u001b[0;36m7\u001b[0m\u001b[0;34m,\u001b[0m\u001b[0;36m8\u001b[0m\u001b[0;34m,\u001b[0m\u001b[0;36m9\u001b[0m\u001b[0;34m]\u001b[0m\u001b[0;34m\u001b[0m\u001b[0;34m\u001b[0m\u001b[0m\n\u001b[0;32m----> 5\u001b[0;31m \u001b[0ma\u001b[0m\u001b[0;34m[\u001b[0m\u001b[0;34m:\u001b[0m\u001b[0;34m:\u001b[0m\u001b[0;36m2\u001b[0m\u001b[0;34m]\u001b[0m\u001b[0;34m=\u001b[0m\u001b[0;36m10\u001b[0m\u001b[0;34m,\u001b[0m\u001b[0;36m20\u001b[0m\u001b[0;34m,\u001b[0m\u001b[0;36m30\u001b[0m\u001b[0;34m,\u001b[0m\u001b[0;36m40\u001b[0m\u001b[0;34m,\u001b[0m\u001b[0;36m50\u001b[0m\u001b[0;34m,\u001b[0m\u001b[0;36m60\u001b[0m\u001b[0;34m\u001b[0m\u001b[0;34m\u001b[0m\u001b[0m\n\u001b[0m\u001b[1;32m      6\u001b[0m \u001b[0mprint\u001b[0m\u001b[0;34m(\u001b[0m\u001b[0ma\u001b[0m\u001b[0;34m)\u001b[0m\u001b[0;34m\u001b[0m\u001b[0;34m\u001b[0m\u001b[0m\n",
            "\u001b[0;31mValueError\u001b[0m: attempt to assign sequence of size 6 to extended slice of size 5"
          ]
        }
      ]
    },
    {
      "cell_type": "code",
      "source": [
        "# Q-3. What will be the output of the following code snippet?\n",
        "# Answer:  B. [4, 3, 2]\n",
        "\n",
        "a=[1,2,3,4,5]\n",
        "print(a[3:0:-1])"
      ],
      "metadata": {
        "colab": {
          "base_uri": "https://localhost:8080/"
        },
        "id": "09on-2t7N5jt",
        "outputId": "a9862df4-62be-4b15-cbd5-2817d242106a"
      },
      "execution_count": 8,
      "outputs": [
        {
          "output_type": "stream",
          "name": "stdout",
          "text": [
            "[4, 3, 2]\n"
          ]
        }
      ]
    },
    {
      "cell_type": "code",
      "source": [
        "# Q-4. What will be the output of the following code snippet?\n",
        "# Answer:  C. 3 44\n",
        "\n",
        "def f(value, values):\n",
        "    v = 1\n",
        "    values[0] = 44\n",
        "t = 3\n",
        "v = [1, 2, 3]\n",
        "f(t, v)\n",
        "print(t, v[0])"
      ],
      "metadata": {
        "colab": {
          "base_uri": "https://localhost:8080/"
        },
        "id": "ZnVbPzwyOb8u",
        "outputId": "ce5e99e6-3137-4d5c-e221-858c90d934b0"
      },
      "execution_count": 10,
      "outputs": [
        {
          "output_type": "stream",
          "name": "stdout",
          "text": [
            "3 44\n"
          ]
        }
      ]
    },
    {
      "cell_type": "code",
      "source": [
        "# Q-5. What is the correct command to shuffle the following list?\n",
        "\n",
        "fruit=['apple', 'banana', 'papaya', 'cherry']"
      ],
      "metadata": {
        "id": "xiCAOt0bOxNI"
      },
      "execution_count": 12,
      "outputs": []
    },
    {
      "cell_type": "code",
      "source": [
        "# Q-6. What will be the output of the following code snippet?\n",
        "# Answer: D. 4\n",
        "\n",
        "data = [[[1, 2], [3, 4]], [[5, 6], [7, 8]]]\n",
        "def fun(m):\n",
        "    v = m[0][0]\n",
        "\n",
        "    for row in m:\n",
        "        for element in row:\n",
        "            if v < element: v = element\n",
        "\n",
        "    return v\n",
        "print(fun(data[0]))"
      ],
      "metadata": {
        "colab": {
          "base_uri": "https://localhost:8080/"
        },
        "id": "IX1yycGOO_48",
        "outputId": "666ed4b5-e7e4-41b9-df50-a0e044d16908"
      },
      "execution_count": 14,
      "outputs": [
        {
          "output_type": "stream",
          "name": "stdout",
          "text": [
            "4\n"
          ]
        }
      ]
    },
    {
      "cell_type": "code",
      "source": [
        "# Q-7. What will be the output of the following code snippet?\n",
        "# Answer:  C. 4 7 11 15 \n",
        "\n",
        "arr = [[1, 2, 3, 4],\n",
        "       [4, 5, 6, 7],\n",
        "       [8, 9, 10, 11],\n",
        "       [12, 13, 14, 15]]\n",
        "for i in range(0, 4):\n",
        "    print(arr[i].pop())"
      ],
      "metadata": {
        "colab": {
          "base_uri": "https://localhost:8080/"
        },
        "id": "YWPdAd2dPQqv",
        "outputId": "0a9fb4e9-ab82-4cc9-f96a-c33a299ea7bf"
      },
      "execution_count": 16,
      "outputs": [
        {
          "output_type": "stream",
          "name": "stdout",
          "text": [
            "4\n",
            "7\n",
            "11\n",
            "15\n"
          ]
        }
      ]
    },
    {
      "cell_type": "code",
      "source": [
        "# Q-8. What will be the output of the following code snippet?\n",
        "# Answer: C. [1] [1, 2] [1, 2, 3]\n",
        "\n",
        "def f(i, values = []):\n",
        "    values.append(i)\n",
        "    print (values)\n",
        "    return values\n",
        "f(1)\n",
        "f(2)\n",
        "f(3)"
      ],
      "metadata": {
        "colab": {
          "base_uri": "https://localhost:8080/"
        },
        "id": "QbR9ZAc-Pbg4",
        "outputId": "c95036f4-5df4-4cf2-abdc-ce17f9c4ffc1"
      },
      "execution_count": 18,
      "outputs": [
        {
          "output_type": "stream",
          "name": "stdout",
          "text": [
            "[1]\n",
            "[1, 2]\n",
            "[1, 2, 3]\n"
          ]
        },
        {
          "output_type": "execute_result",
          "data": {
            "text/plain": [
              "[1, 2, 3]"
            ]
          },
          "metadata": {},
          "execution_count": 18
        }
      ]
    },
    {
      "cell_type": "code",
      "source": [
        "# Q-9. What will be the output of the following code snippet?\n",
        "# Answer:  D. 2 3 4 5 6 6\n",
        "\n",
        "arr = [1, 2, 3, 4, 5, 6]\n",
        "for i in range(1, 6):\n",
        "    arr[i - 1] = arr[i]\n",
        "for i in range(0, 6): \n",
        "    print(arr[i], end = \" \")"
      ],
      "metadata": {
        "colab": {
          "base_uri": "https://localhost:8080/"
        },
        "id": "4RH_yItZPrYm",
        "outputId": "1836226c-74c9-4f03-b78e-e329cdecabcb"
      },
      "execution_count": 20,
      "outputs": [
        {
          "output_type": "stream",
          "name": "stdout",
          "text": [
            "2 3 4 5 6 6 "
          ]
        }
      ]
    },
    {
      "cell_type": "code",
      "source": [
        "#Q-10. What will be the output of the following code snippet?\n",
        "# Answer:  A. 22\n",
        "\n",
        "fruit_list1 = ['Apple', 'Berry', 'Cherry', 'Papaya']\n",
        "fruit_list2 = fruit_list1\n",
        "fruit_list3 = fruit_list1[:]\n",
        "\n",
        "fruit_list2[0] = 'Guava'\n",
        "fruit_list3[1] = 'Kiwi'\n",
        "\n",
        "sum = 0\n",
        "for ls in (fruit_list1, fruit_list2, fruit_list3):\n",
        "    if ls[0] == 'Guava':\n",
        "        sum += 1\n",
        "    if ls[1] == 'Kiwi':\n",
        "        sum += 20\n",
        "\n",
        "print(sum)"
      ],
      "metadata": {
        "colab": {
          "base_uri": "https://localhost:8080/"
        },
        "id": "auaSdpF5QEhM",
        "outputId": "070374bc-42ae-40a5-c45a-3a5e98b37511"
      },
      "execution_count": 23,
      "outputs": [
        {
          "output_type": "stream",
          "name": "stdout",
          "text": [
            "22\n"
          ]
        }
      ]
    }
  ]
}