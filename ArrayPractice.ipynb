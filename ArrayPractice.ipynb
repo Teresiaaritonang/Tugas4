{
  "nbformat": 4,
  "nbformat_minor": 0,
  "metadata": {
    "colab": {
      "provenance": []
    },
    "kernelspec": {
      "name": "python3",
      "display_name": "Python 3"
    },
    "language_info": {
      "name": "python"
    }
  },
  "cells": [
    {
      "cell_type": "code",
      "execution_count": null,
      "metadata": {
        "id": "edRgdI9GOVGX"
      },
      "outputs": [],
      "source": [
        "# Created by Elshad Karimov on 04/04/2020\n",
        "# Copyright 2020 AppMillers. All rights reserved.\n",
        "from array import*"
      ]
    },
    {
      "cell_type": "code",
      "source": [
        "#1. Create an array and traverse.\n",
        "\n",
        "my_array = array('i',[1,2,3,4,5])\n",
        "\n",
        "for i in my_array:\n",
        "  print(i)"
      ],
      "metadata": {
        "colab": {
          "base_uri": "https://localhost:8080/"
        },
        "id": "eHfElUKqOYOz",
        "outputId": "3e5937fc-934d-4c8d-b411-493f05a4eb4b"
      },
      "execution_count": null,
      "outputs": [
        {
          "output_type": "stream",
          "name": "stdout",
          "text": [
            "1\n",
            "2\n",
            "3\n",
            "4\n",
            "5\n"
          ]
        }
      ]
    },
    {
      "cell_type": "code",
      "source": [
        "#2. Acces individual elements through indexees \n",
        "print(\"step 2\")\n",
        "print(my_array[3])"
      ],
      "metadata": {
        "colab": {
          "base_uri": "https://localhost:8080/"
        },
        "id": "KH8iwH6ROeDT",
        "outputId": "576df622-f377-44bd-d28a-138021f4245b"
      },
      "execution_count": null,
      "outputs": [
        {
          "output_type": "stream",
          "name": "stdout",
          "text": [
            "step 2\n",
            "4\n"
          ]
        }
      ]
    },
    {
      "cell_type": "code",
      "source": [
        "#3. Appen dany value to the array using append() method\n",
        "print(\"step 3\")\n",
        "my_array.append(6)\n",
        "print(my_array)"
      ],
      "metadata": {
        "colab": {
          "base_uri": "https://localhost:8080/"
        },
        "id": "09eKf-boOfCJ",
        "outputId": "7711860e-6b93-44d6-ef5c-04390705236e"
      },
      "execution_count": null,
      "outputs": [
        {
          "output_type": "stream",
          "name": "stdout",
          "text": [
            "step 3\n",
            "array('i', [1, 2, 3, 4, 5, 6])\n"
          ]
        }
      ]
    },
    {
      "cell_type": "code",
      "source": [
        "#4. Insert value in an array using insert() method\n",
        "print(\"step 4\")\n",
        "my_array.insert(3,11)\n",
        "print(my_array)"
      ],
      "metadata": {
        "colab": {
          "base_uri": "https://localhost:8080/"
        },
        "id": "ea9RoMGuOjzr",
        "outputId": "422c82c1-29a1-4f12-c3d7-df8a8399f1ff"
      },
      "execution_count": null,
      "outputs": [
        {
          "output_type": "stream",
          "name": "stdout",
          "text": [
            "step 4\n",
            "array('i', [1, 2, 3, 11, 4, 5, 6])\n"
          ]
        }
      ]
    },
    {
      "cell_type": "code",
      "source": [
        "#5. Extend python array using extend() method\n",
        "print(\"step 5\")\n",
        "my_array1 = array('i',[10,11,12])\n",
        "my_array.extend(my_array1)\n",
        "print(my_array)"
      ],
      "metadata": {
        "colab": {
          "base_uri": "https://localhost:8080/"
        },
        "id": "YyBzepQROo_p",
        "outputId": "5813775e-eeae-40a3-fa93-9693b1492c09"
      },
      "execution_count": null,
      "outputs": [
        {
          "output_type": "stream",
          "name": "stdout",
          "text": [
            "step 5\n",
            "array('i', [1, 2, 3, 11, 4, 5, 6, 10, 11, 12])\n"
          ]
        }
      ]
    },
    {
      "cell_type": "code",
      "source": [
        "#6. Add items from list into array using fromlist() method\n",
        "print(\"step 6\")\n",
        "tempList = [20,21,22]\n",
        "my_array.fromlist(tempList)\n",
        "print(my_array)"
      ],
      "metadata": {
        "colab": {
          "base_uri": "https://localhost:8080/"
        },
        "id": "N-NszaNOOsq9",
        "outputId": "c3ab681d-a5bd-4040-abd9-6aa2721fc276"
      },
      "execution_count": null,
      "outputs": [
        {
          "output_type": "stream",
          "name": "stdout",
          "text": [
            "step 6\n",
            "array('i', [1, 2, 3, 11, 4, 5, 6, 10, 11, 12, 20, 21, 22])\n"
          ]
        }
      ]
    },
    {
      "cell_type": "code",
      "source": [
        "#7. Remove any array element using remove() method\n",
        "print(\"step 7\")\n",
        "my_array.remove(11)\n",
        "print(my_array)"
      ],
      "metadata": {
        "colab": {
          "base_uri": "https://localhost:8080/"
        },
        "id": "Y_QfZ89JPL-W",
        "outputId": "d466835b-d352-4902-9b79-495a971e1777"
      },
      "execution_count": null,
      "outputs": [
        {
          "output_type": "stream",
          "name": "stdout",
          "text": [
            "step 7\n",
            "array('i', [1, 2, 3, 4, 5, 6, 10, 11, 12, 20, 21, 22])\n"
          ]
        }
      ]
    },
    {
      "cell_type": "code",
      "source": [
        "#8. Remove last array element using pop() method\n",
        "print(\"step 8\")\n",
        "my_array.pop()\n",
        "print(my_array)"
      ],
      "metadata": {
        "colab": {
          "base_uri": "https://localhost:8080/"
        },
        "id": "FPsUjS7APPMi",
        "outputId": "ec4ed54d-ad6e-4871-b25d-4d2cf1fb6085"
      },
      "execution_count": null,
      "outputs": [
        {
          "output_type": "stream",
          "name": "stdout",
          "text": [
            "step 8\n",
            "array('i', [1, 2, 3, 4, 5, 6, 10, 11, 12, 20, 21])\n"
          ]
        }
      ]
    },
    {
      "cell_type": "code",
      "source": [
        "#9. Fetch any element through its index using index() method\n",
        "print(\"step 9\")\n",
        "print(my_array.index(21))"
      ],
      "metadata": {
        "colab": {
          "base_uri": "https://localhost:8080/"
        },
        "id": "pmXR2fHTPSOP",
        "outputId": "bcfcc137-e454-4efd-8c48-0b4199e65ed5"
      },
      "execution_count": null,
      "outputs": [
        {
          "output_type": "stream",
          "name": "stdout",
          "text": [
            "step 9\n",
            "10\n"
          ]
        }
      ]
    },
    {
      "cell_type": "code",
      "source": [
        "#10. Reverse a python array using reverse() method\n",
        "print (\"step 10\")\n",
        "my_array.reverse()\n",
        "print(my_array)"
      ],
      "metadata": {
        "id": "5a0awi64PYIT",
        "colab": {
          "base_uri": "https://localhost:8080/"
        },
        "outputId": "30a8aab0-2316-46ef-c85f-c7c45741237e"
      },
      "execution_count": null,
      "outputs": [
        {
          "output_type": "stream",
          "name": "stdout",
          "text": [
            "step 10\n",
            "array('i', [21, 20, 12, 11, 10, 6, 5, 4, 3, 2, 1])\n"
          ]
        }
      ]
    },
    {
      "cell_type": "code",
      "source": [
        "#11. Get array buffer information through buffer_info() method\n",
        "print(\"step 11\")\n",
        "print(my_array.buffer_info())"
      ],
      "metadata": {
        "colab": {
          "base_uri": "https://localhost:8080/"
        },
        "id": "hPvN8GqRiRrP",
        "outputId": "8173b4e3-d989-43fc-c724-d9ef731d2250"
      },
      "execution_count": null,
      "outputs": [
        {
          "output_type": "stream",
          "name": "stdout",
          "text": [
            "step 11\n",
            "(139950951526704, 11)\n"
          ]
        }
      ]
    },
    {
      "cell_type": "code",
      "source": [
        "#12. Check for number of occurrences of an element using count() method\n",
        "print(\"step 12\")\n",
        "my_array.append(11)\n",
        "print(my_array.count(11))\n",
        "print(my_array)"
      ],
      "metadata": {
        "colab": {
          "base_uri": "https://localhost:8080/"
        },
        "id": "-S_nXopKjjdq",
        "outputId": "3c39a63b-79cc-4393-9d3b-c3b4d842d95b"
      },
      "execution_count": null,
      "outputs": [
        {
          "output_type": "stream",
          "name": "stdout",
          "text": [
            "step 12\n",
            "2\n",
            "array('i', [21, 20, 12, 11, 10, 6, 5, 4, 3, 2, 1, 11])\n"
          ]
        }
      ]
    },
    {
      "cell_type": "code",
      "source": [
        "# 13. Convert array to string using tostring() method\n",
        "print(\"Step 13\")\n",
        "strTemp = my_array.tostring()\n",
        "print(strTemp)\n",
        "ints = array('i')\n",
        "ints.fromstring(strTemp)\n",
        "print(ints)"
      ],
      "metadata": {
        "id": "J4kY6E9SlmTg",
        "colab": {
          "base_uri": "https://localhost:8080/",
          "height": 252
        },
        "outputId": "a7811800-e26a-49d3-fdb3-b80e95356b40"
      },
      "execution_count": 1,
      "outputs": [
        {
          "output_type": "stream",
          "name": "stdout",
          "text": [
            "Step 13\n"
          ]
        },
        {
          "output_type": "error",
          "ename": "NameError",
          "evalue": "ignored",
          "traceback": [
            "\u001b[0;31m---------------------------------------------------------------------------\u001b[0m",
            "\u001b[0;31mNameError\u001b[0m                                 Traceback (most recent call last)",
            "\u001b[0;32m<ipython-input-1-43ea82ae7bde>\u001b[0m in \u001b[0;36m<cell line: 3>\u001b[0;34m()\u001b[0m\n\u001b[1;32m      1\u001b[0m \u001b[0;31m# 13. Convert array to string using tostring() method\u001b[0m\u001b[0;34m\u001b[0m\u001b[0;34m\u001b[0m\u001b[0m\n\u001b[1;32m      2\u001b[0m \u001b[0mprint\u001b[0m\u001b[0;34m(\u001b[0m\u001b[0;34m\"Step 13\"\u001b[0m\u001b[0;34m)\u001b[0m\u001b[0;34m\u001b[0m\u001b[0;34m\u001b[0m\u001b[0m\n\u001b[0;32m----> 3\u001b[0;31m \u001b[0mstrTemp\u001b[0m \u001b[0;34m=\u001b[0m \u001b[0mmy_array\u001b[0m\u001b[0;34m.\u001b[0m\u001b[0mtostring\u001b[0m\u001b[0;34m(\u001b[0m\u001b[0;34m)\u001b[0m\u001b[0;34m\u001b[0m\u001b[0;34m\u001b[0m\u001b[0m\n\u001b[0m\u001b[1;32m      4\u001b[0m \u001b[0mprint\u001b[0m\u001b[0;34m(\u001b[0m\u001b[0mstrTemp\u001b[0m\u001b[0;34m)\u001b[0m\u001b[0;34m\u001b[0m\u001b[0;34m\u001b[0m\u001b[0m\n\u001b[1;32m      5\u001b[0m \u001b[0mints\u001b[0m \u001b[0;34m=\u001b[0m \u001b[0marray\u001b[0m\u001b[0;34m(\u001b[0m\u001b[0;34m'i'\u001b[0m\u001b[0;34m)\u001b[0m\u001b[0;34m\u001b[0m\u001b[0;34m\u001b[0m\u001b[0m\n",
            "\u001b[0;31mNameError\u001b[0m: name 'my_array' is not defined"
          ]
        }
      ]
    },
    {
      "cell_type": "code",
      "source": [
        "# 14. Convert array to a python list with same elements using tolist() method\n",
        "print(\"Step 14\")\n",
        "# print(my_array.tolist())"
      ],
      "metadata": {
        "colab": {
          "base_uri": "https://localhost:8080/"
        },
        "id": "lmm90E9kLP0_",
        "outputId": "57f3b9c4-b4e2-4e13-fc9d-c05a4ec392e9"
      },
      "execution_count": 2,
      "outputs": [
        {
          "output_type": "stream",
          "name": "stdout",
          "text": [
            "Step 14\n"
          ]
        }
      ]
    },
    {
      "cell_type": "code",
      "source": [
        "# 15. Append a string to char array using fromstring() method"
      ],
      "metadata": {
        "id": "r743sFrpLZ38"
      },
      "execution_count": 3,
      "outputs": []
    },
    {
      "cell_type": "code",
      "source": [
        "# 16. Slice Elements from an array\n",
        "print(\"Step 16\")"
      ],
      "metadata": {
        "colab": {
          "base_uri": "https://localhost:8080/"
        },
        "id": "eZYkUjctLj2x",
        "outputId": "d9d56566-6c16-4913-e2ce-32f0d07e9ea3"
      },
      "execution_count": 4,
      "outputs": [
        {
          "output_type": "stream",
          "name": "stdout",
          "text": [
            "Step 16\n"
          ]
        }
      ]
    }
  ]
}