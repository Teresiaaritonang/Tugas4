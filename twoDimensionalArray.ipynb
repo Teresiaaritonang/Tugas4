{
 "cells": [
  {
   "cell_type": "code",
   "execution_count": 10,
   "id": "8fbcd58c",
   "metadata": {},
   "outputs": [],
   "source": [
    "shoppingList = ['milk', 'cheese', 'butter']"
   ]
  },
  {
   "cell_type": "code",
   "execution_count": 11,
   "id": "4045e31b",
   "metadata": {},
   "outputs": [
    {
     "name": "stdout",
     "output_type": "stream",
     "text": [
      "milk+\n",
      "cheese+\n",
      "butter+\n"
     ]
    }
   ],
   "source": [
    "for i in range(len(shoppingList)):\n",
    "    shoppingList[i] = shoppingList[i]+\"+\"\n",
    "    print(shoppingList[i])\n",
    "empty = []\n",
    "for i in empty:\n",
    "    print('i am empty')\n"
   ]
  },
  {
   "cell_type": "code",
   "execution_count": 22,
   "id": "0dd1e1d2",
   "metadata": {},
   "outputs": [
    {
     "name": "stdout",
     "output_type": "stream",
     "text": [
      "[1, 2, 3, 4, 5, 6, 7]\n"
     ]
    }
   ],
   "source": [
    "#update/insert-list\n",
    "\n",
    "myList = [1,2,3,4,5,6,7]\n",
    "print(myList)"
   ]
  },
  {
   "cell_type": "code",
   "execution_count": 23,
   "id": "03ffd606",
   "metadata": {},
   "outputs": [
    {
     "name": "stdout",
     "output_type": "stream",
     "text": [
      "[1, 2, 3, 4, 15, 5, 6, 7]\n"
     ]
    }
   ],
   "source": [
    "myList.insert(4,15)\n",
    "print(myList)"
   ]
  },
  {
   "cell_type": "code",
   "execution_count": 24,
   "id": "3397b3ff",
   "metadata": {},
   "outputs": [
    {
     "name": "stdout",
     "output_type": "stream",
     "text": [
      "[1, 2, 3, 4, 15, 5, 6, 7, 55]\n"
     ]
    }
   ],
   "source": [
    "myList.append(55)\n",
    "print(myList)"
   ]
  },
  {
   "cell_type": "code",
   "execution_count": 25,
   "id": "a7789890",
   "metadata": {},
   "outputs": [
    {
     "name": "stdout",
     "output_type": "stream",
     "text": [
      "[1, 2, 3, 4, 15, 5, 6, 7, 55]\n"
     ]
    }
   ],
   "source": [
    "newList = [11,12,13,14]\n",
    "print(myList)"
   ]
  },
  {
   "cell_type": "code",
   "execution_count": 26,
   "id": "e83bf640",
   "metadata": {},
   "outputs": [
    {
     "name": "stdout",
     "output_type": "stream",
     "text": [
      "[1, 2, 3, 4, 15, 5, 6, 7, 55, 11, 12, 13, 14]\n"
     ]
    }
   ],
   "source": [
    "myList.extend(newList)\n",
    "print(myList)"
   ]
  },
  {
   "cell_type": "code",
   "execution_count": 27,
   "id": "3668d83c",
   "metadata": {},
   "outputs": [
    {
     "name": "stdout",
     "output_type": "stream",
     "text": [
      "[1, 2, 3, 4, 15, 15, 5, 6, 7, 55, 11, 12, 13, 14, 55, 11, 12, 13, 14]\n"
     ]
    }
   ],
   "source": [
    "myList.insert(4,15)\n",
    "\n",
    "myList.append(55)\n",
    "\n",
    "newList = [11,12,13,14]\n",
    "myList.extend(newList)\n",
    "print(myList)"
   ]
  },
  {
   "cell_type": "code",
   "execution_count": 32,
   "id": "459b0984",
   "metadata": {},
   "outputs": [
    {
     "name": "stdout",
     "output_type": "stream",
     "text": [
      "The value does not exist in the list\n"
     ]
    }
   ],
   "source": [
    "#searching for an elements in the list\n",
    "myList = [10,20,30,40,50,60,70,80,90]\n",
    "\n",
    "def searchinList(list,value):\n",
    "    for i in list:\n",
    "        if i == value:\n",
    "            return list.index(value)\n",
    "    return 'The value does not exist in the list'\n",
    "\n",
    "print(searchinList(myList, 100))"
   ]
  },
  {
   "cell_type": "code",
   "execution_count": 33,
   "id": "a8c2d3c6",
   "metadata": {},
   "outputs": [
    {
     "ename": "IndentationError",
     "evalue": "unexpected indent (3865741544.py, line 7)",
     "output_type": "error",
     "traceback": [
      "\u001b[1;36m  Input \u001b[1;32mIn [33]\u001b[1;36m\u001b[0m\n\u001b[1;33m    value = float(inp)\u001b[0m\n\u001b[1;37m    ^\u001b[0m\n\u001b[1;31mIndentationError\u001b[0m\u001b[1;31m:\u001b[0m unexpected indent\n"
     ]
    }
   ],
   "source": [
    "#list operations/ functions\n",
    "total = 0\n",
    "count = 0\n",
    "while(true):\n",
    "    inp= input('enter a number')\n",
    "    if inp == 'done': break\n",
    "        value = float(inp)\n",
    "        numlist.append(value)\n",
    "        \n",
    "average = sum(numlist) / len(numlist)\n",
    "print('Avarage:' average)"
   ]
  },
  {
   "cell_type": "code",
   "execution_count": null,
   "id": "68b4f79a",
   "metadata": {},
   "outputs": [],
   "source": []
  }
 ],
 "metadata": {
  "kernelspec": {
   "display_name": "Python 3 (ipykernel)",
   "language": "python",
   "name": "python3"
  },
  "language_info": {
   "codemirror_mode": {
    "name": "ipython",
    "version": 3
   },
   "file_extension": ".py",
   "mimetype": "text/x-python",
   "name": "python",
   "nbconvert_exporter": "python",
   "pygments_lexer": "ipython3",
   "version": "3.9.12"
  }
 },
 "nbformat": 4,
 "nbformat_minor": 5
}
